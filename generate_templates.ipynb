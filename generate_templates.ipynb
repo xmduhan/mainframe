{
 "cells": [
  {
   "cell_type": "code",
   "execution_count": 11,
   "id": "bdd5487d-c9c9-4ef1-9c1f-14cb9af6ad38",
   "metadata": {},
   "outputs": [],
   "source": [
    "import re\n",
    "import requests\n",
    "from pathlib import Path\n",
    "from bs4 import BeautifulSoup\n",
    "from bs4.element import Comment\n",
    "from urllib.parse import urljoin\n",
    "import mimetypes"
   ]
  },
  {
   "cell_type": "code",
   "execution_count": 10,
   "id": "9fc7b478-2d8e-48ee-9784-3a5376787427",
   "metadata": {},
   "outputs": [],
   "source": [
    "admin_lte_home = Path('AdminLTE')\n",
    "pages_home = admin_lte_home.joinpath('dist/pages')\n",
    "app_home = Path('mainframe')\n",
    "template_home = app_home.joinpath('templates/mainframe')\n",
    "static_home = app_home.joinpath('static/mainframe')"
   ]
  },
  {
   "cell_type": "code",
   "execution_count": 28,
   "id": "15f3f73e-e0a8-4bc5-b7fc-4af432b0ea1d",
   "metadata": {},
   "outputs": [],
   "source": [
    "# def get_css_external(url):\n",
    "#     parent = urljoin(url, './') \n",
    "#     response = requests.get(url)    \n",
    "#     src_content = re.findall('@font-face\\{.*?(src:.*?)\\}', response.text)\n",
    "#     if not src_content: return []\n",
    "#     return [urljoin(parent, _) for _ in re.findall('url\\(\"(.*?)\"\\)', src_content[0])]"
   ]
  },
  {
   "cell_type": "code",
   "execution_count": 29,
   "id": "22142ee8-1824-4f78-8646-0bb9e2412c1d",
   "metadata": {},
   "outputs": [],
   "source": [
    "def extract_resource(url):\n",
    "    \"\"\" \"\"\"\n",
    "    path = pages_home.joinpath(url)\n",
    "    if path.exists(): \n",
    "        new_path = static_home.joinpath(url.replace('../../', ''))\n",
    "        new_path.parent.mkdir(exist_ok=True, parents=True)\n",
    "        new_path.write_bytes(path.read_bytes())        \n",
    "    else:\n",
    "        new_path = static_home.joinpath(re.sub('https://.*/npm/@*', '', url).replace('@', '/'))\n",
    "        new_path.parent.mkdir(exist_ok=True, parents=True)\n",
    "        new_path.write_bytes(requests.get(url).content)\n",
    "        mime_type, _ = mimetypes.guess_type(url) \n",
    "        # if mime_type == 'text/css':\n",
    "        #     for external_url in get_css_external(url):\n",
    "        #         print(external_url)\n",
    "        #         print(extract_resource(external_url))            \n",
    "    return new_path"
   ]
  },
  {
   "cell_type": "code",
   "execution_count": 31,
   "id": "94690dfa-a265-491c-b9bf-f853c84f9416",
   "metadata": {},
   "outputs": [],
   "source": [
    "def solve_resource(filename):\n",
    "    with open(filename, 'r') as f: \n",
    "        soup = BeautifulSoup(f.read(), 'html.parser')    \n",
    "    attrname_dict = {'link': 'href', 'script': 'src', 'img': 'src'}\n",
    "    for tag in soup.find_all(['script', 'link', 'img']):\n",
    "        attrname = attrname_dict.get(tag.name, None)\n",
    "        if not attrname: continue\n",
    "        url = tag.get(attrname)\n",
    "        if not url: continue\n",
    "        new_path = extract_resource(url)\n",
    "        tag[attrname] = Path('/').joinpath(new_path.relative_to(app_home)).as_posix()\n",
    "        # print(tag[attrname])\n",
    "        # print(url)\n",
    "        # print(tag[attrname])\n",
    "    return soup.prettify()"
   ]
  },
  {
   "cell_type": "code",
   "execution_count": 32,
   "id": "3ea117a8-4d70-46ac-89ed-4d5b2b7dd380",
   "metadata": {},
   "outputs": [
    {
     "name": "stdout",
     "output_type": "stream",
     "text": [
      "https://cdn.jsdelivr.net/npm/@fontsource/source-sans-3@5.0.12/index.css\n",
      "https://cdn.jsdelivr.net/npm/overlayscrollbars@2.3.0/styles/overlayscrollbars.min.css\n",
      "https://cdn.jsdelivr.net/npm/bootstrap-icons@1.11.0/font/bootstrap-icons.min.css\n",
      "../../dist/css/adminlte.css\n",
      "https://cdn.jsdelivr.net/npm/apexcharts@3.37.1/dist/apexcharts.css\n",
      "https://cdn.jsdelivr.net/npm/jsvectormap@1.5.3/dist/css/jsvectormap.min.css\n",
      "../../dist/assets/img/user1-128x128.jpg\n",
      "../../dist/assets/img/user8-128x128.jpg\n",
      "../../dist/assets/img/user3-128x128.jpg\n",
      "../../dist/assets/img/user2-160x160.jpg\n",
      "../../dist/assets/img/user2-160x160.jpg\n",
      "../../dist/assets/img/AdminLTELogo.png\n",
      "../../dist/assets/img/user1-128x128.jpg\n",
      "../../dist/assets/img/user3-128x128.jpg\n",
      "../../dist/assets/img/user1-128x128.jpg\n",
      "../../dist/assets/img/user3-128x128.jpg\n",
      "../../dist/assets/img/user1-128x128.jpg\n",
      "../../dist/assets/img/user7-128x128.jpg\n",
      "../../dist/assets/img/user3-128x128.jpg\n",
      "../../dist/assets/img/user5-128x128.jpg\n",
      "../../dist/assets/img/user6-128x128.jpg\n",
      "../../dist/assets/img/user8-128x128.jpg\n",
      "https://cdn.jsdelivr.net/npm/overlayscrollbars@2.3.0/browser/overlayscrollbars.browser.es6.min.js\n",
      "https://cdn.jsdelivr.net/npm/@popperjs/core@2.11.8/dist/umd/popper.min.js\n",
      "https://cdn.jsdelivr.net/npm/bootstrap@5.3.2/dist/js/bootstrap.min.js\n",
      "../../dist/js/adminlte.js\n",
      "https://cdn.jsdelivr.net/npm/sortablejs@1.15.0/Sortable.min.js\n",
      "https://cdn.jsdelivr.net/npm/apexcharts@3.37.1/dist/apexcharts.min.js\n",
      "https://cdn.jsdelivr.net/npm/jsvectormap@1.5.3/dist/js/jsvectormap.min.js\n",
      "https://cdn.jsdelivr.net/npm/jsvectormap@1.5.3/dist/maps/world.js\n"
     ]
    }
   ],
   "source": [
    "original_html = solve_resource(\n",
    "    pages_home.joinpath('index.html').as_posix())"
   ]
  },
  {
   "cell_type": "code",
   "execution_count": 99,
   "id": "901a0d0f-e836-47df-98d5-7d57a0be4849",
   "metadata": {},
   "outputs": [
    {
     "name": "stdout",
     "output_type": "stream",
     "text": [
      "/static/mainframe/bootstrap-icons/1.11.0/font/bootstrap-icons.min.css\n"
     ]
    },
    {
     "data": {
      "text/plain": [
       "935"
      ]
     },
     "execution_count": 99,
     "metadata": {},
     "output_type": "execute_result"
    }
   ],
   "source": [
    "soup = BeautifulSoup(original_html, 'html.parser')\n",
    "\n",
    "# Clear menu\n",
    "sidebar_menu = soup.find(attrs={'class': 'sidebar-menu'})\n",
    "li_list = []\n",
    "for i, li in enumerate(sidebar_menu.find_all('li', recursive=False)):\n",
    "    if i in [0, 1, 6, 7]:\n",
    "        continue\n",
    "    li.replace_with('')\n",
    "\n",
    "# Clear content\n",
    "soup.find(attrs={'class': 'app-content'}).replace_with('')\n",
    "\n",
    "# Toggle switch\n",
    "# soup.find(attrs={'data-lte-toggle': 'sidebar'}).find('i').replace_with('🌐')\n",
    "\n",
    "# Remove useless script\n",
    "for script in soup.find_all('script'):\n",
    "    src = script.attrs.get('src')\n",
    "    if src is not None:        \n",
    "        if any([k in src for k in ['adminlte', 'bootstrap']]):\n",
    "            continue    \n",
    "    script.replace_with('')\n",
    "\n",
    "# Remove useless css\n",
    "for css in soup.find_all('link'):\n",
    "    href = css.attrs.get('href')\n",
    "    if href is not None:\n",
    "        if any([k in href for k in ['adminlte', 'bootstrap']]):\n",
    "            if 'bootstrap-icons' in href:\n",
    "                print(href)\n",
    "                # bootstrap-icons 要手动下载\n",
    "                # https://github.com/twbs/icons/releases/download/v1.11.1/bootstrap-icons-1.11.1.zip\n",
    "                css.attrs['href'] = '/static/mainframe/bootstrap-icons/bootstrap-icons.min.css'\n",
    "                del css.attrs['integrity']\n",
    "            continue    \n",
    "    css.replace_with('')  \n",
    "\n",
    "# Clear all comments\n",
    "for commnet in soup.find_all(string=lambda text: isinstance(text, Comment)):\n",
    "    commnet.replace_with('')\n",
    "\n",
    "# Delete meta\n",
    "for meta in soup.find_all('meta')[2:]:\n",
    "    meta.replace_with('')\n",
    "\n",
    "# Replace title\n",
    "soup.find('title').string='数据中台管理'\n",
    "\n",
    "\n",
    "# Split pages\n",
    "qs = 'body div[class=\"app-wrapper\"]'\n",
    "for tag in [x for x in soup.select(qs)[0].children if str(x).strip()]:\n",
    "    path = template_home.joinpath(f'{ tag.name }.html')\n",
    "    path.write_text(tag.prettify())\n",
    "    tag.replace_with(f'{{% include \"{ app_home }/{ tag.name }.html\" %}}')\n",
    "\n",
    "path = template_home.joinpath('index.html')\n",
    "path.parent.mkdir(exist_ok=True, parents=True)\n",
    "path.write_text(soup.prettify())"
   ]
  },
  {
   "cell_type": "code",
   "execution_count": 142,
   "id": "5e35f199-5d26-471b-8112-b8ba8278af4c",
   "metadata": {},
   "outputs": [
    {
     "data": {
      "text/plain": [
       "3159"
      ]
     },
     "execution_count": 142,
     "metadata": {},
     "output_type": "execute_result"
    }
   ],
   "source": [
    "path = template_home.joinpath('aside.html')\n",
    "aside_html = path.read_text()\n",
    "aside = BeautifulSoup(aside_html, 'html.parser')\n",
    "# qs = 'div[class=\"sidebar-wrapper\"] nav[class=\"mt-2\"]'\n",
    "# children = [x for x in aside.select(qs)[0].children if str(x).strip()]\n",
    "# for ch in children:\n",
    "#     print(ch.name)\n",
    "qs = 'div[class=\"sidebar-wrapper\"] nav[class=\"mt-2\"] li[class=\"nav-item\"]'\n",
    "for li in aside.select(qs):\n",
    "    if len(li.select('li[class=\"nav-item\"]')) == 0:\n",
    "        li.replace_with(f'''{{% include \"{ app_home }/nav_item.html\" with name=\"{ li.text.strip() }\" href=\"{ li.find('a').attrs['href']}\" %}}''')\n",
    "path.write_text(aside.prettify())"
   ]
  },
  {
   "cell_type": "code",
   "execution_count": 137,
   "id": "ce7183ca-8c4d-405d-8d38-545ba891df2e",
   "metadata": {},
   "outputs": [
    {
     "data": {
      "text/plain": [
       "'./examples/lockscreen.html'"
      ]
     },
     "execution_count": 137,
     "metadata": {},
     "output_type": "execute_result"
    }
   ],
   "source": []
  },
  {
   "cell_type": "code",
   "execution_count": 130,
   "id": "fe2d30e8-00fe-4d37-8b13-b5b2e784ef18",
   "metadata": {},
   "outputs": [
    {
     "data": {
      "text/plain": [
       "{'class': ['nav-item']}"
      ]
     },
     "execution_count": 130,
     "metadata": {},
     "output_type": "execute_result"
    }
   ],
   "source": [
    "li.attrs"
   ]
  },
  {
   "cell_type": "code",
   "execution_count": 148,
   "id": "500ab4d0-7c31-43c4-87f4-7d3aad4acd59",
   "metadata": {},
   "outputs": [
    {
     "data": {
      "text/plain": [
       "'dict'"
      ]
     },
     "execution_count": 148,
     "metadata": {},
     "output_type": "execute_result"
    }
   ],
   "source": [
    "value = {}\n",
    "str(type(value)).split(\"'\")[1]"
   ]
  },
  {
   "cell_type": "code",
   "execution_count": null,
   "id": "e529acb3-bcfa-4ed6-b166-8c7231e23236",
   "metadata": {},
   "outputs": [],
   "source": []
  }
 ],
 "metadata": {
  "kernelspec": {
   "display_name": "Python 3 (ipykernel)",
   "language": "python",
   "name": "python3"
  },
  "language_info": {
   "codemirror_mode": {
    "name": "ipython",
    "version": 3
   },
   "file_extension": ".py",
   "mimetype": "text/x-python",
   "name": "python",
   "nbconvert_exporter": "python",
   "pygments_lexer": "ipython3",
   "version": "3.9.16"
  }
 },
 "nbformat": 4,
 "nbformat_minor": 5
}
