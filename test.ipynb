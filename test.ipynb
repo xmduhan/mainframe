{
 "cells": [
  {
   "cell_type": "code",
   "execution_count": 1,
   "id": "bdd5487d-c9c9-4ef1-9c1f-14cb9af6ad38",
   "metadata": {},
   "outputs": [],
   "source": [
    "import re\n",
    "from bs4 import BeautifulSoup\n",
    "import requests\n",
    "from pathlib import Path\n",
    "from bs4.element import Comment"
   ]
  },
  {
   "cell_type": "code",
   "execution_count": 2,
   "id": "76fe22aa-2330-4f2d-9388-59dbc59c9483",
   "metadata": {},
   "outputs": [
    {
     "data": {
      "text/plain": [
       "'/home/duhan/source/django_mainframe'"
      ]
     },
     "execution_count": 2,
     "metadata": {},
     "output_type": "execute_result"
    }
   ],
   "source": [
    "pwd"
   ]
  },
  {
   "cell_type": "code",
   "execution_count": 3,
   "id": "9fc7b478-2d8e-48ee-9784-3a5376787427",
   "metadata": {},
   "outputs": [],
   "source": [
    "admin_lte_home = Path('AdminLTE')\n",
    "pages_home = admin_lte_home.joinpath('dist/pages')\n",
    "template_home = Path('mainframe/templates/mainframe')\n",
    "static_home = Path('mainframe/static/mainframe')\n",
    "# adminlte_home = static_home.joinpath(static_home)"
   ]
  },
  {
   "cell_type": "code",
   "execution_count": 4,
   "id": "22142ee8-1824-4f78-8646-0bb9e2412c1d",
   "metadata": {},
   "outputs": [],
   "source": [
    "def extract_resource(url):\n",
    "    \"\"\" \"\"\"\n",
    "    path = pages_home.joinpath(url)\n",
    "    if path.exists(): \n",
    "        new_path = static_home.joinpath(url.replace('../../', ''))\n",
    "        new_path.parent.mkdir(exist_ok=True, parents=True)\n",
    "        new_path.write_bytes(path.read_bytes())        \n",
    "    else:\n",
    "        new_path = static_home.joinpath(re.sub('https://.*/npm/@*', '', url).replace('@', '/'))\n",
    "        new_path.parent.mkdir(exist_ok=True, parents=True)\n",
    "        new_path.write_bytes(requests.get(url).content)\n",
    "    print(new_path.as_posix())\n",
    "    return new_path.as_posix()"
   ]
  },
  {
   "cell_type": "code",
   "execution_count": 5,
   "id": "94690dfa-a265-491c-b9bf-f853c84f9416",
   "metadata": {},
   "outputs": [],
   "source": [
    "def solve_resource(filename):\n",
    "    with open(filename, 'r') as f: \n",
    "        soup = BeautifulSoup(f.read(), 'html.parser')    \n",
    "    attrname_dict = {'link': 'href', 'script': 'src', 'img': 'src'}\n",
    "    for tag in soup.find_all(['script', 'link', 'img']):\n",
    "        attrname = attrname_dict.get(tag.name, None)\n",
    "        if not attrname: continue\n",
    "        url = tag.get(attrname)\n",
    "        if not url: continue\n",
    "        print(url)\n",
    "        tag[attrname] = extract_resource(url) \n",
    "    return soup.prettify()"
   ]
  },
  {
   "cell_type": "code",
   "execution_count": 6,
   "id": "3ea117a8-4d70-46ac-89ed-4d5b2b7dd380",
   "metadata": {},
   "outputs": [
    {
     "name": "stdout",
     "output_type": "stream",
     "text": [
      "https://cdn.jsdelivr.net/npm/@fontsource/source-sans-3@5.0.12/index.css\n",
      "mainframe/static/mainframe/fontsource/source-sans-3/5.0.12/index.css\n",
      "https://cdn.jsdelivr.net/npm/overlayscrollbars@2.3.0/styles/overlayscrollbars.min.css\n",
      "mainframe/static/mainframe/overlayscrollbars/2.3.0/styles/overlayscrollbars.min.css\n",
      "https://cdn.jsdelivr.net/npm/bootstrap-icons@1.11.0/font/bootstrap-icons.min.css\n",
      "mainframe/static/mainframe/bootstrap-icons/1.11.0/font/bootstrap-icons.min.css\n",
      "../../dist/css/adminlte.css\n",
      "mainframe/static/mainframe/dist/css/adminlte.css\n",
      "https://cdn.jsdelivr.net/npm/apexcharts@3.37.1/dist/apexcharts.css\n",
      "mainframe/static/mainframe/apexcharts/3.37.1/dist/apexcharts.css\n",
      "https://cdn.jsdelivr.net/npm/jsvectormap@1.5.3/dist/css/jsvectormap.min.css\n",
      "mainframe/static/mainframe/jsvectormap/1.5.3/dist/css/jsvectormap.min.css\n",
      "../../dist/assets/img/user1-128x128.jpg\n",
      "mainframe/static/mainframe/dist/assets/img/user1-128x128.jpg\n",
      "../../dist/assets/img/user8-128x128.jpg\n",
      "mainframe/static/mainframe/dist/assets/img/user8-128x128.jpg\n",
      "../../dist/assets/img/user3-128x128.jpg\n",
      "mainframe/static/mainframe/dist/assets/img/user3-128x128.jpg\n",
      "../../dist/assets/img/user2-160x160.jpg\n",
      "mainframe/static/mainframe/dist/assets/img/user2-160x160.jpg\n",
      "../../dist/assets/img/user2-160x160.jpg\n",
      "mainframe/static/mainframe/dist/assets/img/user2-160x160.jpg\n",
      "../../dist/assets/img/AdminLTELogo.png\n",
      "mainframe/static/mainframe/dist/assets/img/AdminLTELogo.png\n",
      "../../dist/assets/img/user1-128x128.jpg\n",
      "mainframe/static/mainframe/dist/assets/img/user1-128x128.jpg\n",
      "../../dist/assets/img/user3-128x128.jpg\n",
      "mainframe/static/mainframe/dist/assets/img/user3-128x128.jpg\n",
      "../../dist/assets/img/user1-128x128.jpg\n",
      "mainframe/static/mainframe/dist/assets/img/user1-128x128.jpg\n",
      "../../dist/assets/img/user3-128x128.jpg\n",
      "mainframe/static/mainframe/dist/assets/img/user3-128x128.jpg\n",
      "../../dist/assets/img/user1-128x128.jpg\n",
      "mainframe/static/mainframe/dist/assets/img/user1-128x128.jpg\n",
      "../../dist/assets/img/user7-128x128.jpg\n",
      "mainframe/static/mainframe/dist/assets/img/user7-128x128.jpg\n",
      "../../dist/assets/img/user3-128x128.jpg\n",
      "mainframe/static/mainframe/dist/assets/img/user3-128x128.jpg\n",
      "../../dist/assets/img/user5-128x128.jpg\n",
      "mainframe/static/mainframe/dist/assets/img/user5-128x128.jpg\n",
      "../../dist/assets/img/user6-128x128.jpg\n",
      "mainframe/static/mainframe/dist/assets/img/user6-128x128.jpg\n",
      "../../dist/assets/img/user8-128x128.jpg\n",
      "mainframe/static/mainframe/dist/assets/img/user8-128x128.jpg\n",
      "https://cdn.jsdelivr.net/npm/overlayscrollbars@2.3.0/browser/overlayscrollbars.browser.es6.min.js\n",
      "mainframe/static/mainframe/overlayscrollbars/2.3.0/browser/overlayscrollbars.browser.es6.min.js\n",
      "https://cdn.jsdelivr.net/npm/@popperjs/core@2.11.8/dist/umd/popper.min.js\n",
      "mainframe/static/mainframe/popperjs/core/2.11.8/dist/umd/popper.min.js\n",
      "https://cdn.jsdelivr.net/npm/bootstrap@5.3.2/dist/js/bootstrap.min.js\n",
      "mainframe/static/mainframe/bootstrap/5.3.2/dist/js/bootstrap.min.js\n",
      "../../dist/js/adminlte.js\n",
      "mainframe/static/mainframe/dist/js/adminlte.js\n",
      "https://cdn.jsdelivr.net/npm/sortablejs@1.15.0/Sortable.min.js\n",
      "mainframe/static/mainframe/sortablejs/1.15.0/Sortable.min.js\n",
      "https://cdn.jsdelivr.net/npm/apexcharts@3.37.1/dist/apexcharts.min.js\n",
      "mainframe/static/mainframe/apexcharts/3.37.1/dist/apexcharts.min.js\n",
      "https://cdn.jsdelivr.net/npm/jsvectormap@1.5.3/dist/js/jsvectormap.min.js\n",
      "mainframe/static/mainframe/jsvectormap/1.5.3/dist/js/jsvectormap.min.js\n",
      "https://cdn.jsdelivr.net/npm/jsvectormap@1.5.3/dist/maps/world.js\n",
      "mainframe/static/mainframe/jsvectormap/1.5.3/dist/maps/world.js\n"
     ]
    }
   ],
   "source": [
    "original_html = solve_resource(\n",
    "    pages_home.joinpath('index.html').as_posix())"
   ]
  },
  {
   "cell_type": "code",
   "execution_count": 7,
   "id": "901a0d0f-e836-47df-98d5-7d57a0be4849",
   "metadata": {},
   "outputs": [
    {
     "data": {
      "text/plain": [
       "13756"
      ]
     },
     "execution_count": 7,
     "metadata": {},
     "output_type": "execute_result"
    }
   ],
   "source": [
    "soup = BeautifulSoup(original_html, 'html.parser')\n",
    "\n",
    "# Clear menu\n",
    "sidebar_menu = soup.find(attrs={'class': 'sidebar-menu'})\n",
    "li_list = []\n",
    "for i, li in enumerate(sidebar_menu.find_all('li', recursive=False)):\n",
    "    if i in [0, 1, 6, 7]:\n",
    "        continue\n",
    "    li.replace_with('')\n",
    "\n",
    "# Clear content\n",
    "soup.find(attrs={'class': 'app-content'}).replace_with('')\n",
    "\n",
    "# Toggle switch\n",
    "soup.find(attrs={'data-lte-toggle': 'sidebar'}).find('i').replace_with('🌐')\n",
    "\n",
    "# Remove useless script\n",
    "for script in soup.find_all('script'):\n",
    "    src = script.attrs.get('src')\n",
    "    if src is not None:\n",
    "        if any([k in src for k in ['adminlte', 'bootstrap']]):\n",
    "            continue    \n",
    "    script.replace_with('')  \n",
    "\n",
    "# Remove useless css\n",
    "for script in soup.find_all('link'):\n",
    "    href = script.attrs.get('href')\n",
    "    if href is not None:\n",
    "        if any([k in href for k in ['adminlte', 'bootstrap']]):\n",
    "            continue    \n",
    "    script.replace_with('')  \n",
    "\n",
    "# Clear all comments\n",
    "for commnet in soup.find_all(string=lambda text: isinstance(text, Comment)):\n",
    "    commnet.replace_with('')\n",
    "\n",
    "# Delete meta\n",
    "for meta in soup.find_all('meta')[2:]:\n",
    "    meta.replace_with('')\n",
    "\n",
    "# Replace title\n",
    "soup.find('title').string='数据中台管理'\n",
    "\n",
    "path = template_home.joinpath('main.html')\n",
    "path.parent.mkdir(exist_ok=True, parents=True)\n",
    "path.write_text(soup.prettify())"
   ]
  },
  {
   "cell_type": "code",
   "execution_count": null,
   "id": "0d13f9fb-2be8-4c22-bbc6-fb62e7547a11",
   "metadata": {},
   "outputs": [],
   "source": []
  }
 ],
 "metadata": {
  "kernelspec": {
   "display_name": "Python 3 (ipykernel)",
   "language": "python",
   "name": "python3"
  },
  "language_info": {
   "codemirror_mode": {
    "name": "ipython",
    "version": 3
   },
   "file_extension": ".py",
   "mimetype": "text/x-python",
   "name": "python",
   "nbconvert_exporter": "python",
   "pygments_lexer": "ipython3",
   "version": "3.9.16"
  }
 },
 "nbformat": 4,
 "nbformat_minor": 5
}
