{
 "cells": [
  {
   "cell_type": "code",
   "execution_count": 1,
   "id": "bdd5487d-c9c9-4ef1-9c1f-14cb9af6ad38",
   "metadata": {},
   "outputs": [],
   "source": [
    "import re\n",
    "from bs4 import BeautifulSoup\n",
    "import requests\n",
    "from pathlib import Path\n",
    "from bs4.element import Comment"
   ]
  },
  {
   "cell_type": "code",
   "execution_count": 2,
   "id": "9fc7b478-2d8e-48ee-9784-3a5376787427",
   "metadata": {},
   "outputs": [],
   "source": [
    "admin_lte_home = Path('/home/duhan/source/AdminLTE-3.2.0/')"
   ]
  },
  {
   "cell_type": "code",
   "execution_count": 3,
   "id": "22142ee8-1824-4f78-8646-0bb9e2412c1d",
   "metadata": {},
   "outputs": [],
   "source": [
    "def extract_resource(url):\n",
    "    \"\"\" \"\"\"\n",
    "    path = admin_lte_home.joinpath(url)\n",
    "    if path.exists(): \n",
    "        new_path = Path(url.replace('../../', 'static/mainframe/adminlte/'))\n",
    "        new_path.parent.mkdir(exist_ok=True, parents=True)\n",
    "        new_path.write_bytes(path.read_bytes())        \n",
    "    else:\n",
    "        new_path = Path('static/mainframe/').joinpath(re.sub('https://.*/npm/@*', '', url).replace('@', '/'))\n",
    "        new_path.parent.mkdir(exist_ok=True, parents=True)\n",
    "        new_path.write_bytes(requests.get(url).content)\n",
    "    return new_path.as_posix()"
   ]
  },
  {
   "cell_type": "code",
   "execution_count": 14,
   "id": "94690dfa-a265-491c-b9bf-f853c84f9416",
   "metadata": {},
   "outputs": [],
   "source": [
    "def solve_resource(filename):\n",
    "    with open(filename, 'r') as f: \n",
    "        soup = BeautifulSoup(f.read(), 'html.parser')    \n",
    "    attrname_dict = {'link': 'href', 'script': 'src', 'img': 'src'}\n",
    "    for tag in soup.find_all(['script', 'link', 'img']):\n",
    "        attrname = attrname_dict.get(tag.name, None)\n",
    "        if not attrname: continue\n",
    "        url = tag.get(attrname)\n",
    "        if not url: continue\n",
    "        # print(url)\n",
    "        tag[attrname] = extract_resource(url) \n",
    "    return soup.prettify()"
   ]
  },
  {
   "cell_type": "code",
   "execution_count": 15,
   "id": "3ea117a8-4d70-46ac-89ed-4d5b2b7dd380",
   "metadata": {},
   "outputs": [],
   "source": [
    "original_html = solve_resource(\n",
    "    admin_lte_home.joinpath('index.html').as_posix())"
   ]
  },
  {
   "cell_type": "code",
   "execution_count": 44,
   "id": "5b4a0c21-54ed-4d8f-9c17-75235b29d2b0",
   "metadata": {},
   "outputs": [],
   "source": [
    "soup = BeautifulSoup(original_html, 'html.parser')\n",
    "\n",
    "# Clear menu\n",
    "sidebar_menu = soup.find(attrs={'class': 'sidebar-menu'})\n",
    "sidebar_menu"
   ]
  },
  {
   "cell_type": "code",
   "execution_count": 45,
   "id": "870c91b5-cb97-4f65-a7e2-007f34f7761b",
   "metadata": {},
   "outputs": [
    {
     "data": {
      "text/plain": [
       "60961"
      ]
     },
     "execution_count": 45,
     "metadata": {},
     "output_type": "execute_result"
    }
   ],
   "source": [
    "Path('main.html').write_text(soup.prettify())"
   ]
  },
  {
   "cell_type": "code",
   "execution_count": 43,
   "id": "f8c65f9a-c109-4550-ae98-9dc30a440078",
   "metadata": {},
   "outputs": [
    {
     "ename": "AttributeError",
     "evalue": "'NoneType' object has no attribute 'find_all'",
     "output_type": "error",
     "traceback": [
      "\u001b[0;31m---------------------------------------------------------------------------\u001b[0m",
      "\u001b[0;31mAttributeError\u001b[0m                            Traceback (most recent call last)",
      "Cell \u001b[0;32mIn[43], line 2\u001b[0m\n\u001b[1;32m      1\u001b[0m li_list \u001b[38;5;241m=\u001b[39m []\n\u001b[0;32m----> 2\u001b[0m \u001b[38;5;28;01mfor\u001b[39;00m i, li \u001b[38;5;129;01min\u001b[39;00m \u001b[38;5;28menumerate\u001b[39m(\u001b[43msidebar_menu\u001b[49m\u001b[38;5;241;43m.\u001b[39;49m\u001b[43mfind_all\u001b[49m(\u001b[38;5;124m'\u001b[39m\u001b[38;5;124mli\u001b[39m\u001b[38;5;124m'\u001b[39m, recursive\u001b[38;5;241m=\u001b[39m\u001b[38;5;28;01mFalse\u001b[39;00m)):\n\u001b[1;32m      3\u001b[0m     \u001b[38;5;28;01mif\u001b[39;00m i \u001b[38;5;129;01min\u001b[39;00m [\u001b[38;5;241m0\u001b[39m, \u001b[38;5;241m1\u001b[39m, \u001b[38;5;241m6\u001b[39m, \u001b[38;5;241m7\u001b[39m]:\n\u001b[1;32m      4\u001b[0m         \u001b[38;5;28;01mcontinue\u001b[39;00m\n",
      "\u001b[0;31mAttributeError\u001b[0m: 'NoneType' object has no attribute 'find_all'"
     ]
    }
   ],
   "source": [
    "li_list = []\n",
    "for i, li in enumerate(sidebar_menu.find_all('li', recursive=False)):\n",
    "    if i in [0, 1, 6, 7]:\n",
    "        continue\n",
    "    li.replace_with('')\n",
    "\n",
    "# Clear content\n",
    "soup.find(attrs={'class': 'app-content'}).replace_with('')\n",
    "\n",
    "# Toggle switch\n",
    "soup.find(attrs={'data-lte-toggle': 'sidebar'}).find('i').replace_with('🌐')\n",
    "\n",
    "# Remove useless script\n",
    "for script in soup.find_all('script'):\n",
    "    src = script.attrs.get('src')\n",
    "    if src is not None:\n",
    "        if any([k in src for k in ['adminlte', 'bootstrap']]):\n",
    "            continue    \n",
    "    script.replace_with('')  \n",
    "\n",
    "# Remove useless css\n",
    "for script in soup.find_all('link'):\n",
    "    href = script.attrs.get('href')\n",
    "    if href is not None:\n",
    "        if any([k in href for k in ['adminlte', 'bootstrap']]):\n",
    "            continue    \n",
    "    script.replace_with('')  \n",
    "\n",
    "# Clear all comments\n",
    "for commnet in soup.find_all(string=lambda text: isinstance(text, Comment)):\n",
    "    commnet.replace_with('')\n",
    "\n",
    "# Delete meta\n",
    "for meta in soup.find_all('meta')[2:]:\n",
    "    meta.replace_with('')\n",
    "\n"
   ]
  },
  {
   "cell_type": "code",
   "execution_count": 344,
   "id": "742e6927-675b-4d60-98b8-c6140e9ba4b3",
   "metadata": {},
   "outputs": [
    {
     "data": {
      "text/plain": [
       "[<meta content=\"AdminLTE v4 | Dashboard\" name=\"title\"/>,\n",
       " <meta content=\"ColorlibHQ\" name=\"author\"/>,\n",
       " <meta content=\"AdminLTE is a Free Bootstrap 5 Admin Dashboard, 30 example pages using Vanilla JS.\" name=\"description\"/>,\n",
       " <meta content=\"bootstrap 5, bootstrap, bootstrap 5 admin dashboard, bootstrap 5 dashboard, bootstrap 5 charts, bootstrap 5 calendar, bootstrap 5 datepicker, bootstrap 5 tables, bootstrap 5 datatable, vanilla js datatable, colorlibhq, colorlibhq dashboard, colorlibhq admin dashboard\" name=\"keywords\"/>]"
      ]
     },
     "execution_count": 344,
     "metadata": {},
     "output_type": "execute_result"
    }
   ],
   "source": []
  },
  {
   "cell_type": "code",
   "execution_count": 10,
   "id": "c66a0eeb-8cfb-44ff-862f-e22784ee344e",
   "metadata": {},
   "outputs": [],
   "source": [
    "# for e in soup.find_all():  \n",
    "#     print(type(e))\n",
    "#     if type(e) is Comment:\n",
    "#         print(e)"
   ]
  },
  {
   "cell_type": "markdown",
   "id": "a2ac246c-ad42-498c-842f-98bd459499e0",
   "metadata": {},
   "source": [
    "------------------------------------------------------------------------"
   ]
  },
  {
   "cell_type": "code",
   "execution_count": 42,
   "id": "b6d1d860-e196-4eab-bdca-bc0c6acc1bc2",
   "metadata": {},
   "outputs": [],
   "source": [
    "soup = BeautifulSoup(original_html, 'html.parser')\n",
    "\n",
    "# Remove useless script\n",
    "for script in soup.find_all('script'):\n",
    "    src = script.attrs.get('src')\n",
    "    if src is not None:\n",
    "        if any([k in src for k in ['adminlte', 'bootstrap']]):\n",
    "            continue    \n",
    "    script.replace_with('')  \n",
    "    \n",
    "body = soup.find('body')\n",
    "for ch in list(body.children):\n",
    "    if len(str(ch).strip()) == 0 or type(ch) == Comment:\n",
    "        ch.replace_with('')\n",
    "        continue\n",
    "    # print(ch.attrs)\n",
    "    if len(ch.attrs) == 0:\n",
    "        print(ch)"
   ]
  },
  {
   "cell_type": "code",
   "execution_count": 34,
   "id": "d367e80f-b4fc-4664-9f3d-12bc3186665b",
   "metadata": {},
   "outputs": [],
   "source": []
  },
  {
   "cell_type": "code",
   "execution_count": 23,
   "id": "a50affe7-2ef5-45fa-a8fe-c9d82ea53ef2",
   "metadata": {},
   "outputs": [
    {
     "ename": "AttributeError",
     "evalue": "'NoneType' object has no attribute 'children'",
     "output_type": "error",
     "traceback": [
      "\u001b[0;31m---------------------------------------------------------------------------\u001b[0m",
      "\u001b[0;31mAttributeError\u001b[0m                            Traceback (most recent call last)",
      "Cell \u001b[0;32mIn[23], line 1\u001b[0m\n\u001b[0;32m----> 1\u001b[0m children \u001b[38;5;241m=\u001b[39m [ch \u001b[38;5;28;01mfor\u001b[39;00m ch \u001b[38;5;129;01min\u001b[39;00m \u001b[38;5;28mlist\u001b[39m(\u001b[43mapp_wrapper\u001b[49m\u001b[38;5;241;43m.\u001b[39;49m\u001b[43mchildren\u001b[49m) \u001b[38;5;28;01mif\u001b[39;00m \u001b[38;5;28mstr\u001b[39m(ch)\u001b[38;5;241m.\u001b[39mstrip() \u001b[38;5;129;01mand\u001b[39;00m \u001b[38;5;28mtype\u001b[39m(ch) \u001b[38;5;129;01mis\u001b[39;00m \u001b[38;5;129;01mnot\u001b[39;00m Comment]\n\u001b[1;32m      2\u001b[0m \u001b[38;5;28mprint\u001b[39m(\u001b[38;5;28mlen\u001b[39m(children))\n\u001b[1;32m      3\u001b[0m \u001b[38;5;28;01mfor\u001b[39;00m ch \u001b[38;5;129;01min\u001b[39;00m children:\n",
      "\u001b[0;31mAttributeError\u001b[0m: 'NoneType' object has no attribute 'children'"
     ]
    }
   ],
   "source": [
    "children = [ch for ch in list(app_wrapper.children) if str(ch).strip() and type(ch) is not Comment]\n",
    "print(len(children))\n",
    "for ch in children:\n",
    "    print(ch.attrs)"
   ]
  },
  {
   "cell_type": "code",
   "execution_count": 232,
   "id": "a870bdaf-f827-4e43-987e-2500a9420623",
   "metadata": {},
   "outputs": [],
   "source": [
    "app_sidebar = children[1]"
   ]
  },
  {
   "cell_type": "code",
   "execution_count": 233,
   "id": "7649936d-1d5e-4f47-a1b1-13baa2743ff0",
   "metadata": {},
   "outputs": [
    {
     "name": "stdout",
     "output_type": "stream",
     "text": [
      "2\n",
      "{'class': ['sidebar-brand']}\n",
      "{'class': ['sidebar-wrapper']}\n"
     ]
    }
   ],
   "source": [
    "children = [ch for ch in list(app_sidebar.children) if str(ch).strip() and type(ch) is not Comment]\n",
    "print(len(children))\n",
    "for ch in children:\n",
    "    print(ch.attrs)"
   ]
  },
  {
   "cell_type": "code",
   "execution_count": 234,
   "id": "01bc7e4c-14d2-4f50-85b3-af4c1b64071c",
   "metadata": {},
   "outputs": [],
   "source": [
    "sidebar_wrapper = children[1]"
   ]
  },
  {
   "cell_type": "code",
   "execution_count": 235,
   "id": "ec8acf4d-efac-4a46-9234-c5bc2b218cae",
   "metadata": {},
   "outputs": [
    {
     "name": "stdout",
     "output_type": "stream",
     "text": [
      "1\n",
      "{'class': ['mt-2']}\n"
     ]
    }
   ],
   "source": [
    "children = [ch for ch in list(sidebar_wrapper.children) if str(ch).strip() and type(ch) is not Comment]\n",
    "print(len(children))\n",
    "for ch in children:\n",
    "    print(ch.attrs)"
   ]
  },
  {
   "cell_type": "code",
   "execution_count": 205,
   "id": "0f251c88-905a-4bf0-910b-bbe1812a8ca7",
   "metadata": {},
   "outputs": [],
   "source": [
    "mt_2 = children[0]"
   ]
  },
  {
   "cell_type": "code",
   "execution_count": 206,
   "id": "28165cd6-bf92-45aa-a5eb-459b9b27a368",
   "metadata": {},
   "outputs": [
    {
     "name": "stdout",
     "output_type": "stream",
     "text": [
      "1\n",
      "{'class': ['nav', 'sidebar-menu', 'flex-column'], 'data-accordion': 'false', 'data-lte-toggle': 'treeview', 'role': 'menu'}\n"
     ]
    }
   ],
   "source": [
    "children = [ch for ch in list(mt_2.children) if str(ch).strip() and type(ch) is not Comment]\n",
    "print(len(children))\n",
    "for ch in children:\n",
    "    print(ch.attrs)"
   ]
  },
  {
   "cell_type": "code",
   "execution_count": 207,
   "id": "47ff1e1e-ff43-4ebc-8bf7-809aabe18a1e",
   "metadata": {},
   "outputs": [],
   "source": [
    "sidebar_menu = children[0]"
   ]
  },
  {
   "cell_type": "code",
   "execution_count": 218,
   "id": "175b329b-3c96-4ff3-bbc3-1df19a8e230c",
   "metadata": {},
   "outputs": [
    {
     "name": "stdout",
     "output_type": "stream",
     "text": [
      "26\n",
      "{'class': ['nav-item', 'menu-open']}\n",
      "{'class': ['nav-item']}\n",
      "{'class': ['nav-item']}\n",
      "{'class': ['nav-item']}\n",
      "{'class': ['nav-item']}\n",
      "{'class': ['nav-item']}\n",
      "{'class': ['nav-header']}\n",
      "{'class': ['nav-item']}\n",
      "{'class': ['nav-header']}\n",
      "{'class': ['nav-item']}\n",
      "{'class': ['nav-item']}\n",
      "{'class': ['nav-item']}\n",
      "{'class': ['nav-item']}\n",
      "{'class': ['nav-item']}\n",
      "{'class': ['nav-item']}\n",
      "{'class': ['nav-item']}\n",
      "{'class': ['nav-item']}\n",
      "{'class': ['nav-item']}\n",
      "{'class': ['nav-header']}\n",
      "{'class': ['nav-item']}\n",
      "{'class': ['nav-item']}\n",
      "{'class': ['nav-item']}\n",
      "{'class': ['nav-header']}\n",
      "{'class': ['nav-item']}\n",
      "{'class': ['nav-item']}\n",
      "{'class': ['nav-item']}\n"
     ]
    }
   ],
   "source": [
    "children = [ch for ch in list(sidebar_menu.children) if str(ch).strip() and type(ch) is not Comment]\n",
    "print(len(children))\n",
    "for ch in children:\n",
    "    print(ch.attrs, )"
   ]
  },
  {
   "cell_type": "code",
   "execution_count": 219,
   "id": "571639ed-ba72-46dc-921f-365f045faaa2",
   "metadata": {},
   "outputs": [],
   "source": [
    "nav_item = children[1]"
   ]
  },
  {
   "cell_type": "code",
   "execution_count": 220,
   "id": "13ef6339-86f5-44eb-86ce-2654232825aa",
   "metadata": {},
   "outputs": [
    {
     "name": "stdout",
     "output_type": "stream",
     "text": [
      "2\n",
      "{'class': ['nav-link'], 'href': '#'}\n",
      "{'class': ['nav', 'nav-treeview']}\n"
     ]
    }
   ],
   "source": [
    "children = [ch for ch in list(nav_item.children) if str(ch).strip() and type(ch) is not Comment]\n",
    "print(len(children))\n",
    "for ch in children:\n",
    "    print(ch.attrs, )"
   ]
  },
  {
   "cell_type": "code",
   "execution_count": 223,
   "id": "73402918-c841-4e7d-ac59-1b7ed3cfb880",
   "metadata": {},
   "outputs": [],
   "source": [
    "nav_treeview = children[1]"
   ]
  },
  {
   "cell_type": "code",
   "execution_count": 227,
   "id": "25a02e74-05fc-4a97-964b-fad7983f4ecc",
   "metadata": {},
   "outputs": [
    {
     "name": "stdout",
     "output_type": "stream",
     "text": [
      "3\n",
      "{'class': ['nav-item']} Small Box\n",
      "{'class': ['nav-item']} info Box\n",
      "{'class': ['nav-item']} Cards\n"
     ]
    }
   ],
   "source": [
    "children = [ch for ch in list(nav_treeview.children) if str(ch).strip() and type(ch) is not Comment]\n",
    "print(len(children))\n",
    "for ch in children:\n",
    "    print(ch.attrs, ch.text.strip())"
   ]
  },
  {
   "cell_type": "code",
   "execution_count": 228,
   "id": "ce3bf4a5-b06b-4a9a-a9b3-323b566fff6a",
   "metadata": {},
   "outputs": [
    {
     "data": {
      "text/plain": [
       "<li class=\"nav-item\">\n",
       "<a class=\"nav-link\" href=\"./widgets/cards.html\">\n",
       "<i class=\"nav-icon bi bi-circle\">\n",
       "</i>\n",
       "<p>\n",
       "            Cards\n",
       "           </p>\n",
       "</a>\n",
       "</li>"
      ]
     },
     "execution_count": 228,
     "metadata": {},
     "output_type": "execute_result"
    }
   ],
   "source": [
    "ch"
   ]
  }
 ],
 "metadata": {
  "kernelspec": {
   "display_name": "Python 3 (ipykernel)",
   "language": "python",
   "name": "python3"
  },
  "language_info": {
   "codemirror_mode": {
    "name": "ipython",
    "version": 3
   },
   "file_extension": ".py",
   "mimetype": "text/x-python",
   "name": "python",
   "nbconvert_exporter": "python",
   "pygments_lexer": "ipython3",
   "version": "3.9.16"
  }
 },
 "nbformat": 4,
 "nbformat_minor": 5
}
