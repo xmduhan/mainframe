{
 "cells": [
  {
   "cell_type": "code",
   "execution_count": 52,
   "id": "bdd5487d-c9c9-4ef1-9c1f-14cb9af6ad38",
   "metadata": {},
   "outputs": [],
   "source": [
    "import re\n",
    "from bs4 import BeautifulSoup\n",
    "import requests\n",
    "from pathlib import Path\n",
    "from bs4.element import Comment"
   ]
  },
  {
   "cell_type": "code",
   "execution_count": 67,
   "id": "9fc7b478-2d8e-48ee-9784-3a5376787427",
   "metadata": {},
   "outputs": [],
   "source": [
    "admin_lte_home = Path('AdminLTE/dist/pages')"
   ]
  },
  {
   "cell_type": "code",
   "execution_count": 75,
   "id": "22142ee8-1824-4f78-8646-0bb9e2412c1d",
   "metadata": {},
   "outputs": [],
   "source": [
    "def extract_resource(url):\n",
    "    \"\"\" \"\"\"\n",
    "    path = admin_lte_home.joinpath(url)\n",
    "    # print(path)\n",
    "    if path.exists(): \n",
    "        new_path = Path(url.replace('../../', 'static/mainframe/adminlte/'))\n",
    "        new_path.parent.mkdir(exist_ok=True, parents=True)\n",
    "        new_path.write_bytes(path.read_bytes())        \n",
    "    else:\n",
    "        new_path = Path('static/mainframe/').joinpath(re.sub('https://.*/npm/@*', '', url).replace('@', '/'))\n",
    "        new_path.parent.mkdir(exist_ok=True, parents=True)\n",
    "        new_path.write_bytes(requests.get(url).content)\n",
    "    return new_path.as_posix()"
   ]
  },
  {
   "cell_type": "code",
   "execution_count": 76,
   "id": "94690dfa-a265-491c-b9bf-f853c84f9416",
   "metadata": {},
   "outputs": [],
   "source": [
    "def solve_resource(filename):\n",
    "    with open(filename, 'r') as f: \n",
    "        soup = BeautifulSoup(f.read(), 'html.parser')    \n",
    "    attrname_dict = {'link': 'href', 'script': 'src', 'img': 'src'}\n",
    "    for tag in soup.find_all(['script', 'link', 'img']):\n",
    "        attrname = attrname_dict.get(tag.name, None)\n",
    "        if not attrname: continue\n",
    "        url = tag.get(attrname)\n",
    "        if not url: continue\n",
    "        # print(url)\n",
    "        tag[attrname] = extract_resource(url) \n",
    "    return soup.prettify()"
   ]
  },
  {
   "cell_type": "code",
   "execution_count": 77,
   "id": "3ea117a8-4d70-46ac-89ed-4d5b2b7dd380",
   "metadata": {},
   "outputs": [],
   "source": [
    "original_html = solve_resource(\n",
    "    admin_lte_home.joinpath('index.html').as_posix())"
   ]
  },
  {
   "cell_type": "code",
   "execution_count": 81,
   "id": "901a0d0f-e836-47df-98d5-7d57a0be4849",
   "metadata": {},
   "outputs": [
    {
     "data": {
      "text/plain": [
       "13728"
      ]
     },
     "execution_count": 81,
     "metadata": {},
     "output_type": "execute_result"
    }
   ],
   "source": [
    "soup = BeautifulSoup(original_html, 'html.parser')\n",
    "\n",
    "# Clear menu\n",
    "sidebar_menu = soup.find(attrs={'class': 'sidebar-menu'})\n",
    "li_list = []\n",
    "for i, li in enumerate(sidebar_menu.find_all('li', recursive=False)):\n",
    "    if i in [0, 1, 6, 7]:\n",
    "        continue\n",
    "    li.replace_with('')\n",
    "\n",
    "# Clear content\n",
    "soup.find(attrs={'class': 'app-content'}).replace_with('')\n",
    "\n",
    "# Toggle switch\n",
    "soup.find(attrs={'data-lte-toggle': 'sidebar'}).find('i').replace_with('🌐')\n",
    "\n",
    "# Remove useless script\n",
    "for script in soup.find_all('script'):\n",
    "    src = script.attrs.get('src')\n",
    "    if src is not None:\n",
    "        if any([k in src for k in ['adminlte', 'bootstrap']]):\n",
    "            continue    \n",
    "    script.replace_with('')  \n",
    "\n",
    "# Remove useless css\n",
    "for script in soup.find_all('link'):\n",
    "    href = script.attrs.get('href')\n",
    "    if href is not None:\n",
    "        if any([k in href for k in ['adminlte', 'bootstrap']]):\n",
    "            continue    \n",
    "    script.replace_with('')  \n",
    "\n",
    "# Clear all comments\n",
    "for commnet in soup.find_all(string=lambda text: isinstance(text, Comment)):\n",
    "    commnet.replace_with('')\n",
    "\n",
    "# Delete meta\n",
    "for meta in soup.find_all('meta')[2:]:\n",
    "    meta.replace_with('')\n",
    "\n",
    "# Replace title\n",
    "soup.find('title').string='数据中台管理'\n",
    "\n",
    "path = Path('template/mainframe/main.html')\n",
    "path.parent.mkdir(exist_ok=True, parents=True)\n",
    "path.write_text(soup.prettify())"
   ]
  }
 ],
 "metadata": {
  "kernelspec": {
   "display_name": "Python 3 (ipykernel)",
   "language": "python",
   "name": "python3"
  },
  "language_info": {
   "codemirror_mode": {
    "name": "ipython",
    "version": 3
   },
   "file_extension": ".py",
   "mimetype": "text/x-python",
   "name": "python",
   "nbconvert_exporter": "python",
   "pygments_lexer": "ipython3",
   "version": "3.9.16"
  }
 },
 "nbformat": 4,
 "nbformat_minor": 5
}
