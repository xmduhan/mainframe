{
 "cells": [
  {
   "cell_type": "code",
   "execution_count": 1,
   "id": "bdd5487d-c9c9-4ef1-9c1f-14cb9af6ad38",
   "metadata": {},
   "outputs": [],
   "source": [
    "import re\n",
    "import requests\n",
    "from pathlib import Path\n",
    "from bs4 import BeautifulSoup\n",
    "from bs4.element import Comment\n",
    "from urllib.parse import urljoin\n",
    "import mimetypes"
   ]
  },
  {
   "cell_type": "code",
   "execution_count": 2,
   "id": "eeab156d-7eaa-4d16-8567-3382aca57716",
   "metadata": {},
   "outputs": [],
   "source": [
    "!rm -rf mainframe/static/\n",
    "!mkdir -p mainframe/static/mainframe/plugins/\n",
    "!cp -ar AdminLTE-3.2.0/plugins/fontawesome-free  mainframe/static/mainframe/plugins/\n",
    "!cp -ar AdminLTE-3.2.0/plugins//bootstrap  mainframe/static/mainframe/plugins/"
   ]
  },
  {
   "cell_type": "code",
   "execution_count": 3,
   "id": "9fc7b478-2d8e-48ee-9784-3a5376787427",
   "metadata": {},
   "outputs": [],
   "source": [
    "admin_lte_home = Path('AdminLTE-3.2.0')\n",
    "pages_home = admin_lte_home.joinpath('dist/pages')\n",
    "app_home = Path('mainframe')\n",
    "template_home = app_home.joinpath('templates/mainframe')\n",
    "static_home = app_home.joinpath('static/mainframe')"
   ]
  },
  {
   "cell_type": "code",
   "execution_count": 4,
   "id": "15f3f73e-e0a8-4bc5-b7fc-4af432b0ea1d",
   "metadata": {},
   "outputs": [],
   "source": [
    "# def get_css_external(url):\n",
    "#     parent = urljoin(url, './') \n",
    "#     response = requests.get(url)    \n",
    "#     src_content = re.findall('@font-face\\{.*?(src:.*?)\\}', response.text)\n",
    "#     if not src_content: return []\n",
    "#     return [urljoin(parent, _) for _ in re.findall('url\\(\"(.*?)\"\\)', src_content[0])]"
   ]
  },
  {
   "cell_type": "code",
   "execution_count": 5,
   "id": "22142ee8-1824-4f78-8646-0bb9e2412c1d",
   "metadata": {},
   "outputs": [],
   "source": [
    "def extract_resource(url):\n",
    "    \"\"\" \"\"\"\n",
    "    path = admin_lte_home.joinpath(url)\n",
    "    if path.exists(): \n",
    "        new_path = static_home.joinpath(url.replace('../../', ''))\n",
    "        new_path.parent.mkdir(exist_ok=True, parents=True)\n",
    "        new_path.write_bytes(path.read_bytes())        \n",
    "    else:\n",
    "        new_path = static_home.joinpath(re.sub('https://.*/npm/@*', '', url).replace('@', '/'))\n",
    "        new_path.parent.mkdir(exist_ok=True, parents=True)\n",
    "        new_path.write_bytes(requests.get(url).content)\n",
    "        mime_type, _ = mimetypes.guess_type(url) \n",
    "        # if mime_type == 'text/css':\n",
    "        #     for external_url in get_css_external(url):\n",
    "        #         print(external_url)\n",
    "        #         print(extract_resource(external_url))            \n",
    "    return new_path"
   ]
  },
  {
   "cell_type": "code",
   "execution_count": 6,
   "id": "94690dfa-a265-491c-b9bf-f853c84f9416",
   "metadata": {},
   "outputs": [],
   "source": [
    "def solve_resource(filename):\n",
    "    with open(filename, 'r') as f: \n",
    "        soup = BeautifulSoup(f.read(), 'html.parser')    \n",
    "    attrname_dict = {'link': 'href', 'script': 'src', 'img': 'src'}\n",
    "    for tag in soup.find_all(['script', 'link', 'img']):\n",
    "        attrname = attrname_dict.get(tag.name, None)\n",
    "        if not attrname: continue\n",
    "        url = tag.get(attrname)\n",
    "        if not url: continue\n",
    "        print(url)\n",
    "        new_path = extract_resource(url)\n",
    "        tag[attrname] = Path('/').joinpath(new_path.relative_to(app_home)).as_posix()\n",
    "    return soup.prettify()"
   ]
  },
  {
   "cell_type": "code",
   "execution_count": 7,
   "id": "3ea117a8-4d70-46ac-89ed-4d5b2b7dd380",
   "metadata": {},
   "outputs": [
    {
     "name": "stdout",
     "output_type": "stream",
     "text": [
      "https://fonts.googleapis.com/css?family=Source+Sans+Pro:300,400,400i,700&display=fallback\n",
      "plugins/fontawesome-free/css/all.min.css\n",
      "dist/css/adminlte.min.css\n",
      "plugins/overlayScrollbars/css/OverlayScrollbars.min.css\n",
      "dist/img/user1-128x128.jpg\n",
      "dist/img/user8-128x128.jpg\n",
      "dist/img/user3-128x128.jpg\n",
      "dist/img/AdminLTELogo.png\n",
      "dist/img/user2-160x160.jpg\n",
      "plugins/jquery/jquery.min.js\n",
      "plugins/jquery-ui/jquery-ui.min.js\n",
      "plugins/bootstrap/js/bootstrap.bundle.min.js\n",
      "plugins/overlayScrollbars/js/jquery.overlayScrollbars.min.js\n",
      "dist/js/adminlte.js\n",
      "dist/js/demo.js\n"
     ]
    }
   ],
   "source": [
    "original_html = solve_resource(\n",
    "    admin_lte_home.joinpath('iframe.html').as_posix())"
   ]
  },
  {
   "cell_type": "code",
   "execution_count": 76,
   "id": "901a0d0f-e836-47df-98d5-7d57a0be4849",
   "metadata": {},
   "outputs": [
    {
     "data": {
      "text/plain": [
       "1468"
      ]
     },
     "execution_count": 76,
     "metadata": {},
     "output_type": "execute_result"
    }
   ],
   "source": [
    "soup = BeautifulSoup(original_html, 'html.parser')\n",
    "\n",
    "# Clear menu\n",
    "# aside = soup.find('aside')\n",
    "# li_list = []\n",
    "# for i, li in enumerate(aside.find_all('li', recursive=False)):\n",
    "#     if i in [0, 1, 6, 7]:\n",
    "#         continue\n",
    "#     li.replace_with('')\n",
    "\n",
    "\n",
    "# Remove useless script\n",
    "for script in soup.find_all('script'):\n",
    "    src = script.attrs.get('src')\n",
    "    if src is not None:        \n",
    "        if 'demo' in src:\n",
    "            script.replace_with('')    \n",
    "    \n",
    "\n",
    "# Remove useless css\n",
    "for css in soup.find_all('link'):\n",
    "    href = css.attrs.get('href')\n",
    "    if href is not None:\n",
    "        if any([k in href for k in ['adminlte', 'bootstrap']]):\n",
    "            if 'bootstrap-icons' in href:\n",
    "                print(href)\n",
    "                # bootstrap-icons 要手动下载\n",
    "                # https://github.com/twbs/icons/releases/download/v1.11.1/bootstrap-icons-1.11.1.zip\n",
    "                css.attrs['href'] = '/static/mainframe/bootstrap-icons/bootstrap-icons.min.css'\n",
    "                del css.attrs['integrity']\n",
    "            continue    \n",
    "    # css.replace_with('')  \n",
    "\n",
    "# Clear all comments\n",
    "for commnet in soup.find_all(string=lambda text: isinstance(text, Comment)):\n",
    "    commnet.replace_with('')\n",
    "\n",
    "# Delete meta\n",
    "for meta in soup.find_all('meta')[2:]:\n",
    "    meta.replace_with('')\n",
    "\n",
    "# Replace title\n",
    "soup.find('title').string='数据中台管理'\n",
    "\n",
    "# Split pages\n",
    "qs = 'body div[class=\"wrapper\"]'\n",
    "for tag in [x for x in soup.select(qs)[0].children if str(x).strip()][:-1]:\n",
    "    tag_name = 'iframe' if tag.name == 'div' else tag.name\n",
    "    path = template_home.joinpath(f'{ tag_name }.html')\n",
    "    path.write_text(tag.prettify())    \n",
    "    tag.replace_with(f'{{% include \"{ app_home }/{ tag_name }.html\" %}}')\n",
    "    # print(tag.name)\n",
    "\n",
    "path = template_home.joinpath('index.html')\n",
    "path.parent.mkdir(exist_ok=True, parents=True)\n",
    "path.write_text(soup.prettify())"
   ]
  },
  {
   "cell_type": "code",
   "execution_count": 75,
   "id": "bcf87245-7eb2-4355-ac93-c6044ec5528d",
   "metadata": {},
   "outputs": [
    {
     "data": {
      "text/plain": [
       "1216"
      ]
     },
     "execution_count": 75,
     "metadata": {},
     "output_type": "execute_result"
    }
   ],
   "source": [
    "path = template_home.joinpath('aside.html')\n",
    "aside = BeautifulSoup(path.read_text())\n",
    "# aside.select('aside .mt-2')[0].string = f'{{% include \"{ app_home }/menu.html\" %}}'\n",
    "aside.select('aside .mt-2 ul')[0].string = f'{{% include \"{ app_home }/menu.html\" %}}'\n",
    "path.write_text(aside.prettify())"
   ]
  },
  {
   "cell_type": "code",
   "execution_count": 72,
   "id": "29d1848b-e285-4134-96cf-24ab59b2b43d",
   "metadata": {},
   "outputs": [],
   "source": [
    "# aside.select('aside .mt-2')[0]"
   ]
  },
  {
   "cell_type": "code",
   "execution_count": 45,
   "id": "d8c1447f-5e2f-4ca4-abc0-fe8b3cf06f4c",
   "metadata": {},
   "outputs": [],
   "source": [
    "# aside_html = \"\"\"\\\n",
    "# {% load util %}\n",
    "# {% for key, value in treeview_data.items %}\n",
    "#     {% if value|get_type == \"str\" %}\n",
    "#         {% include \"mainframe/nav_item.html\" with name=key href=value %}\n",
    "#     {% elif  value|get_type == \"dict\" %}\n",
    "#         {% include \"mainframe/nav_treeview.html\" with name=key data=value %}\n",
    "#     {% else %}\n",
    "#         <div>Unknown Menu Type: {{ value|get_type }}</div>\n",
    "#     {% endif %} \n",
    "# {% endfor %}\n",
    "# \"\"\"\n",
    "# path = template_home.joinpath('menu.html')\n",
    "# path.write_text(aside_html)"
   ]
  },
  {
   "cell_type": "code",
   "execution_count": 11,
   "id": "f678b075-35c4-4e23-a16e-598fa67b8448",
   "metadata": {},
   "outputs": [],
   "source": [
    "# !ls mainframe/static/mainframe/dist/css/adminlte.min.css "
   ]
  }
 ],
 "metadata": {
  "kernelspec": {
   "display_name": "Python 3 (ipykernel)",
   "language": "python",
   "name": "python3"
  },
  "language_info": {
   "codemirror_mode": {
    "name": "ipython",
    "version": 3
   },
   "file_extension": ".py",
   "mimetype": "text/x-python",
   "name": "python",
   "nbconvert_exporter": "python",
   "pygments_lexer": "ipython3",
   "version": "3.9.16"
  }
 },
 "nbformat": 4,
 "nbformat_minor": 5
}
