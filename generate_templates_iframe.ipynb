{
 "cells": [
  {
   "cell_type": "code",
   "execution_count": 1,
   "id": "bdd5487d-c9c9-4ef1-9c1f-14cb9af6ad38",
   "metadata": {},
   "outputs": [],
   "source": [
    "import re\n",
    "import requests\n",
    "from pathlib import Path\n",
    "from bs4 import BeautifulSoup\n",
    "from bs4.element import Comment\n",
    "from urllib.parse import urljoin\n",
    "import mimetypes"
   ]
  },
  {
   "cell_type": "code",
   "execution_count": 2,
   "id": "eeab156d-7eaa-4d16-8567-3382aca57716",
   "metadata": {},
   "outputs": [],
   "source": [
    "!rm -rf mainframe/static/\n",
    "!mkdir -p mainframe/static/mainframe/plugins/\n",
    "!cp -ar AdminLTE-3.2.0/plugins/fontawesome-free  mainframe/static/mainframe/plugins/\n",
    "!cp -ar AdminLTE-3.2.0/plugins//bootstrap  mainframe/static/mainframe/plugins/"
   ]
  },
  {
   "cell_type": "code",
   "execution_count": 3,
   "id": "9fc7b478-2d8e-48ee-9784-3a5376787427",
   "metadata": {},
   "outputs": [],
   "source": [
    "admin_lte_home = Path('AdminLTE-3.2.0')\n",
    "pages_home = admin_lte_home.joinpath('dist/pages')\n",
    "app_home = Path('mainframe')\n",
    "template_home = app_home.joinpath('templates/mainframe')\n",
    "static_home = app_home.joinpath('static/mainframe')"
   ]
  },
  {
   "cell_type": "code",
   "execution_count": 4,
   "id": "9a080165-835f-4ed1-8ce1-b56d304089ea",
   "metadata": {},
   "outputs": [],
   "source": [
    "template_home.mkdir(exist_ok=True, parents=True)\n",
    "static_home.mkdir(exist_ok=True, parents=True)"
   ]
  },
  {
   "cell_type": "code",
   "execution_count": 5,
   "id": "22142ee8-1824-4f78-8646-0bb9e2412c1d",
   "metadata": {},
   "outputs": [],
   "source": [
    "def extract_resource(url):\n",
    "    \"\"\" \"\"\"\n",
    "    path = admin_lte_home.joinpath(url)\n",
    "    if path.exists(): \n",
    "        new_path = static_home.joinpath(url.replace('../../', ''))\n",
    "        new_path.parent.mkdir(exist_ok=True, parents=True)\n",
    "        new_path.write_bytes(path.read_bytes())        \n",
    "    else:\n",
    "        new_path = static_home.joinpath(re.sub('https://.*/npm/@*', '', url).replace('@', '/'))\n",
    "        new_path.parent.mkdir(exist_ok=True, parents=True)\n",
    "        new_path.write_bytes(requests.get(url).content)\n",
    "        mime_type, _ = mimetypes.guess_type(url)         \n",
    "    return new_path"
   ]
  },
  {
   "cell_type": "code",
   "execution_count": 6,
   "id": "94690dfa-a265-491c-b9bf-f853c84f9416",
   "metadata": {},
   "outputs": [],
   "source": [
    "def solve_resource(html):\n",
    "    \"\"\" \"\"\"\n",
    "    soup = BeautifulSoup(html)    \n",
    "    attrname_dict = {'link': 'href', 'script': 'src', 'img': 'src'}\n",
    "    for tag in soup.find_all(['script', 'link', 'img']):\n",
    "        attrname = attrname_dict.get(tag.name, None)\n",
    "        if not attrname: continue\n",
    "        url = tag.get(attrname)\n",
    "        if not url: continue\n",
    "        # print(url)\n",
    "        new_path = extract_resource(url)\n",
    "        tag[attrname] = Path('/dc').joinpath(new_path.relative_to(app_home)).as_posix()\n",
    "    return soup.prettify()"
   ]
  },
  {
   "cell_type": "code",
   "execution_count": 7,
   "id": "3ea117a8-4d70-46ac-89ed-4d5b2b7dd380",
   "metadata": {},
   "outputs": [],
   "source": [
    "original_html = solve_resource( admin_lte_home.joinpath('iframe.html').read_text())"
   ]
  },
  {
   "cell_type": "code",
   "execution_count": 8,
   "id": "901a0d0f-e836-47df-98d5-7d57a0be4849",
   "metadata": {},
   "outputs": [
    {
     "data": {
      "text/plain": [
       "1516"
      ]
     },
     "execution_count": 8,
     "metadata": {},
     "output_type": "execute_result"
    }
   ],
   "source": [
    "soup = BeautifulSoup(original_html, 'html.parser')\n",
    "\n",
    "# Remove demo script\n",
    "[script.replace_with('') for script in soup.select('script[src*=\"demo\"]')]\n",
    "\n",
    "# Clear all comments\n",
    "for commnet in soup.find_all(string=lambda text: isinstance(text, Comment)):\n",
    "    commnet.replace_with('')\n",
    "\n",
    "# Split pages\n",
    "qs = 'body div[class=\"wrapper\"]'\n",
    "for tag in [x for x in soup.select(qs)[0].children if str(x).strip()][:-1]:\n",
    "    tag_name = 'iframe' if tag.name == 'div' else tag.name\n",
    "    path = template_home.joinpath(f'{ tag_name }.html')\n",
    "    path.write_text(tag.prettify())    \n",
    "    tag.replace_with(f'{{% include \"{ app_home }/{ tag_name }.html\" %}}')\n",
    "\n",
    "# Clear menu\n",
    "aside = BeautifulSoup(template_home.joinpath('aside.html').read_text())\n",
    "\n",
    "# nav_item\n",
    "nav_item = [_ for _ in aside.select('aside .mt-2 ul li') if not _.select('li')][0]\n",
    "nav_item.select('a')[0].attrs['href'] = '{{ href }}'\n",
    "nav_item.select('p')[0].string = '{{ name }}'\n",
    "template_home.joinpath('nav_item.html').write_text(\n",
    "    '{% load util %}\\n' + nav_item.prettify())\n",
    "\n",
    "# nav_treeview\n",
    "treeview_content = BeautifulSoup('''\n",
    "{% for key, value in data.items %}\n",
    "    {% if value|get_type == \"str\" %}\n",
    "        {% include \"mainframe/nav_item.html\" with name=key href=value %}\n",
    "    {% elif  value|get_type == \"dict\" %}\n",
    "        {% include \"mainframe/nav_treeview.html\" with name=key data=value %}\n",
    "    {% else %}\n",
    "         <div>Unknown Menu Type: {{ value|get_type }}</div>\n",
    "    {% endif %} \n",
    "{% endfor %}\n",
    "''')\n",
    "aside = BeautifulSoup(template_home.joinpath('aside.html').read_text())\n",
    "nav_treeview = [_ for _ in aside.select('aside .mt-2 ul li') if _.select('li')][0]\n",
    "[_.replace_with('') for _ in nav_treeview.select('ul li')]\n",
    "p_content = BeautifulSoup(f\"{{{{ name }}}}{ nav_treeview.select('p i')[0] }\")\n",
    "nav_treeview.find('p').string = ''\n",
    "nav_treeview.find('p').append(p_content)\n",
    "nav_treeview.find('ul').string = ''\n",
    "nav_treeview.find('ul').append(treeview_content)\n",
    "template_home.joinpath('nav_treeview.html').write_text(\n",
    "    '{% load util %}\\n' + nav_treeview.prettify())\n",
    "\n",
    "aside.select('aside .mt-2 ul')[0].string = f'{{% include \"{ app_home }/menu.html\" %}}'\n",
    "template_home.joinpath('aside.html').write_text(aside.prettify())\n",
    "template_home.joinpath('index.html').write_text(soup.prettify())"
   ]
  },
  {
   "cell_type": "code",
   "execution_count": 9,
   "id": "25db85a4-2f52-445b-923f-9e05cf99c7ec",
   "metadata": {},
   "outputs": [
    {
     "name": "stdout",
     "output_type": "stream",
     "text": [
      "<li class=\"nav-item\">\n",
      " <a class=\"nav-link\" href=\"{{ href }}\">\n",
      "  <i class=\"far fa-circle nav-icon\">\n",
      "  </i>\n",
      "  <p>\n",
      "   {{ name }}\n",
      "  </p>\n",
      " </a>\n",
      "</li>\n",
      "\n"
     ]
    }
   ],
   "source": [
    "print(nav_item.prettify())"
   ]
  },
  {
   "cell_type": "code",
   "execution_count": null,
   "id": "9bb1bb63-c1bc-4d1b-b2c5-f4fc07d7ea33",
   "metadata": {},
   "outputs": [],
   "source": []
  },
  {
   "cell_type": "code",
   "execution_count": 10,
   "id": "a3781fb5-bb22-46c7-a572-d86f3c5ce8c8",
   "metadata": {},
   "outputs": [
    {
     "data": {
      "text/plain": [
       "<p>{{ name }}<i class=\"right fas fa-angle-left\">\n",
       "</i></p>"
      ]
     },
     "execution_count": 10,
     "metadata": {},
     "output_type": "execute_result"
    }
   ],
   "source": [
    "nav_treeview.p"
   ]
  }
 ],
 "metadata": {
  "kernelspec": {
   "display_name": "Python 3 (ipykernel)",
   "language": "python",
   "name": "python3"
  },
  "language_info": {
   "codemirror_mode": {
    "name": "ipython",
    "version": 3
   },
   "file_extension": ".py",
   "mimetype": "text/x-python",
   "name": "python",
   "nbconvert_exporter": "python",
   "pygments_lexer": "ipython3",
   "version": "3.9.16"
  }
 },
 "nbformat": 4,
 "nbformat_minor": 5
}
